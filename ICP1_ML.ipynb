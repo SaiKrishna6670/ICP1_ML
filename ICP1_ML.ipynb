{
  "nbformat": 4,
  "nbformat_minor": 0,
  "metadata": {
    "colab": {
      "provenance": []
    },
    "kernelspec": {
      "name": "python3",
      "display_name": "Python 3"
    },
    "language_info": {
      "name": "python"
    }
  },
  "cells": [
    {
      "cell_type": "code",
      "execution_count": 1,
      "metadata": {
        "colab": {
          "base_uri": "https://localhost:8080/"
        },
        "id": "q6LpFWvRxfuj",
        "outputId": "7be7bc7c-c500-40f8-f6f6-836bf8bca3b9"
      },
      "outputs": [
        {
          "output_type": "stream",
          "name": "stdout",
          "text": [
            "Sorted Ages: [19, 19, 20, 22, 24, 24, 24, 25, 25, 26, 19, 26]\n",
            "Min Age: 19\n",
            "Max Age: 26\n",
            "Median Age: 24.0\n",
            "Average Age: 22.75\n",
            "Age Range: 7\n"
          ]
        }
      ],
      "source": [
        "#QUESTION1\n",
        "\n",
        "# Given an array\n",
        "ages = [19, 22, 19, 24, 20, 25, 26, 24, 25, 24]\n",
        "\n",
        "# Sorting the list\n",
        "ages.sort()\n",
        "\n",
        "# Find the min and max age\n",
        "min_age = ages[0]\n",
        "max_age = ages[-1]\n",
        "\n",
        "# Add the min and max age again to the list\n",
        "ages.extend([min_age, max_age])\n",
        "\n",
        "# Finding the median age\n",
        "n = len(ages)\n",
        "if n % 2 == 0:\n",
        "    median_age = (ages[n//2 - 1] + ages[n//2]) / 2\n",
        "else:\n",
        "    median_age = ages[n//2]\n",
        "\n",
        "# Find the average age\n",
        "average_age = sum(ages) / len(ages)\n",
        "\n",
        "# Find the range of ages\n",
        "age_range = max_age - min_age\n",
        "\n",
        "# Printing the results\n",
        "print(\"Sorted Ages:\", ages)\n",
        "print(\"Min Age:\", min_age)\n",
        "print(\"Max Age:\", max_age)\n",
        "print(\"Median Age:\", median_age)\n",
        "print(\"Average Age:\", average_age)\n",
        "print(\"Age Range:\", age_range)\n"
      ]
    },
    {
      "cell_type": "code",
      "source": [
        "#QUESTION 2\n",
        "# Create an empty dictionary called dog\n",
        "dog = {}\n",
        "\n",
        "# Add name, color, breed, legs, age to the dog dictionary\n",
        "dog['name'] = 'Mowgli'\n",
        "dog['color'] = 'GoldenBrown'\n",
        "dog['breed'] = 'Labrador'\n",
        "dog['legs'] = 4\n",
        "dog['age'] = 6\n",
        "\n",
        "# Create a student dictionary\n",
        "student = {\n",
        "    'first_name': 'Sai',\n",
        "    'last_name': 'Krishna',\n",
        "    'gender': 'Male',\n",
        "    'age': 24,\n",
        "    'marital_status': 'Single',\n",
        "    'skills': ['Cloud', 'Linux'],\n",
        "    'country': 'India',\n",
        "    'city': 'Hyderabad',\n",
        "    'address': 'Kothapet'\n",
        "}\n",
        "\n",
        "# Get the length of the student dictionary\n",
        "student_length = len(student)\n",
        "\n",
        "# Get the value of skills and check the data type\n",
        "skills_value = student['skills']\n",
        "skills_data_type = type(skills_value)\n",
        "\n",
        "# Modify the skills values by adding one or two skills\n",
        "student['skills'].extend(['Deep Learning', 'Data mining'])\n",
        "\n",
        "# Get the dictionary keys as a list\n",
        "keys_list = list(student.keys())\n",
        "\n",
        "# Get the dictionary values as a list\n",
        "values_list = list(student.values())\n",
        "\n",
        "# Printing the results\n",
        "print(\"Dog Dictionary:\", dog)\n",
        "print(\"Student Dictionary Length:\", student_length)\n",
        "print(\"Skills Data Type:\", skills_data_type)\n",
        "print(\"Modified Student Dictionary:\", student)\n",
        "print(\"Dictionary Keys:\", keys_list)\n",
        "print(\"Dictionary Values:\", values_list)\n"
      ],
      "metadata": {
        "colab": {
          "base_uri": "https://localhost:8080/"
        },
        "id": "zTzAIAaSyANW",
        "outputId": "7e09ce1e-3692-4672-db9c-84e70b408a37"
      },
      "execution_count": 2,
      "outputs": [
        {
          "output_type": "stream",
          "name": "stdout",
          "text": [
            "Dog Dictionary: {'name': 'Mowgli', 'color': 'GoldenBrown', 'breed': 'Labrador', 'legs': 4, 'age': 6}\n",
            "Student Dictionary Length: 9\n",
            "Skills Data Type: <class 'list'>\n",
            "Modified Student Dictionary: {'first_name': 'Sai', 'last_name': 'Krishna', 'gender': 'Male', 'age': 24, 'marital_status': 'Single', 'skills': ['Cloud', 'Linux', 'Deep Learning', 'Data mining'], 'country': 'India', 'city': 'Hyderabad', 'address': 'Kothapet'}\n",
            "Dictionary Keys: ['first_name', 'last_name', 'gender', 'age', 'marital_status', 'skills', 'country', 'city', 'address']\n",
            "Dictionary Values: ['Sai', 'Krishna', 'Male', 24, 'Single', ['Cloud', 'Linux', 'Deep Learning', 'Data mining'], 'India', 'Hyderabad', 'Kothapet']\n"
          ]
        }
      ]
    },
    {
      "cell_type": "code",
      "source": [
        "#QUESTION 3\n",
        "# Tuple containing names of sisters and brothers\n",
        "sisters = ('Rohini', 'Rukul')\n",
        "brothers = ('salman khan', 'vicky kaushal', 'sharukh khan')\n",
        "\n",
        "# Join brothers and sisters tuples\n",
        "siblings = sisters + brothers\n",
        "\n",
        "# Count how many siblings you have\n",
        "num_siblings = len(siblings)\n",
        "\n",
        "# Modify the siblings tuple and add the name of your father and mother\n",
        "family_members = ('Father', 'Mother') + siblings\n",
        "\n",
        "# Printing the results\n",
        "print(\"Siblings:\", siblings)\n",
        "print(\"Number of Siblings:\", num_siblings)\n",
        "print(\"Family Members:\", family_members)\n"
      ],
      "metadata": {
        "colab": {
          "base_uri": "https://localhost:8080/"
        },
        "id": "NP0xZ8udzDAW",
        "outputId": "799b3860-fbff-4d81-e7b9-b38ee1bd4c9e"
      },
      "execution_count": 36,
      "outputs": [
        {
          "output_type": "stream",
          "name": "stdout",
          "text": [
            "Siblings: ('Rohini', 'Rukul', 'salman khan', 'vicky kaushal', 'sharukh khan')\n",
            "Number of Siblings: 5\n",
            "Family Members: ('Father', 'Mother', 'Rohini', 'Rukul', 'salman khan', 'vicky kaushal', 'sharukh khan')\n"
          ]
        }
      ]
    },
    {
      "cell_type": "code",
      "source": [
        "#QUESTION 4\n",
        "# Given sets and list\n",
        "\n",
        "it_companies = {'Facebook', 'Google', 'Microsoft', 'Apple', 'IBM', 'Oracle', 'Amazon'}\n",
        "A = {19, 22, 24, 20, 25, 26}\n",
        "B = {19, 22, 20, 25, 26, 24, 28, 27}\n",
        "age = [22, 19, 24, 25, 26, 24, 25, 24]\n",
        "\n",
        "# Find the length of the set it_companies\n",
        "length_it_companies = len(it_companies)\n",
        "\n",
        "# Add 'Twitter' to it_companies\n",
        "it_companies.add('Twitter')\n",
        "\n",
        "# Insert multiple IT companies at once to the set it_companies\n",
        "it_companies.update({'Capgemini', 'Infosys', 'Tech Mahindra'})\n",
        "\n",
        "# Remove one of the companies from the set it_companies\n",
        "it_companies.remove('Apple')\n",
        "\n",
        "# Difference between remove and discard:\n",
        "# remove will raise an error if the element is not present, while discard will not.\n",
        "# For example, it_companies.remove('Nonexistent') would raise an error if 'Nonexistent' is not in it_companies,\n",
        "# while it_companies.discard('Nonexistent') would not raise an error.\n",
        "\n",
        "# Join A and B\n",
        "joined_AB = A.union(B)\n",
        "\n",
        "# Find A intersection B\n",
        "intersection_AB = A.intersection(B)\n",
        "\n",
        "# Is A subset of B\n",
        "is_A_subset_of_B = A.issubset(B)\n",
        "\n",
        "# Are A and B disjoint sets\n",
        "are_A_and_B_disjoint = A.isdisjoint(B)\n",
        "\n",
        "# Join A with B and B with A\n",
        "joined_A_with_B = A.union(B)\n",
        "joined_B_with_A = B.union(A)\n",
        "\n",
        "# What is the symmetric difference between A and B\n",
        "symmetric_difference_AB = A.symmetric_difference(B)\n",
        "\n",
        "# Delete the sets completely\n",
        "del it_companies\n",
        "del A\n",
        "del B\n",
        "\n",
        "# Convert the ages to a set and compare the length of the list and the set\n",
        "ages_set = set(age)\n",
        "length_age_list = len(age)\n",
        "length_age_set = len(ages_set)\n",
        "\n",
        "# Printing the results\n",
        "print(\"Length of it_companies:\", length_it_companies)\n",
        "print(\"Joined A and B:\", joined_AB)\n",
        "print(\"Intersection of A and B:\", intersection_AB)\n",
        "print(\"Is A subset of B?\", is_A_subset_of_B)\n",
        "print(\"Are A and B disjoint sets?\", are_A_and_B_disjoint)\n",
        "print(\"Joined A with B:\", joined_A_with_B)\n",
        "print(\"Joined B with A:\", joined_B_with_A)\n",
        "print(\"Symmetric difference between A and B:\", symmetric_difference_AB)\n",
        "print(\"Length of age list:\", length_age_list)\n",
        "print(\"Length of age set:\", length_age_set)\n"
      ],
      "metadata": {
        "colab": {
          "base_uri": "https://localhost:8080/"
        },
        "id": "JK9f1sKKztd3",
        "outputId": "35cba3f1-6d7b-475c-a50a-febfcd7e5ba9"
      },
      "execution_count": 39,
      "outputs": [
        {
          "output_type": "stream",
          "name": "stdout",
          "text": [
            "Length of it_companies: 7\n",
            "Joined A and B: {19, 20, 22, 24, 25, 26, 27, 28}\n",
            "Intersection of A and B: {19, 20, 22, 24, 25, 26}\n",
            "Is A subset of B? True\n",
            "Are A and B disjoint sets? False\n",
            "Joined A with B: {19, 20, 22, 24, 25, 26, 27, 28}\n",
            "Joined B with A: {19, 20, 22, 24, 25, 26, 27, 28}\n",
            "Symmetric difference between A and B: {27, 28}\n",
            "Length of age list: 8\n",
            "Length of age set: 5\n"
          ]
        }
      ]
    },
    {
      "cell_type": "code",
      "source": [
        "#QUESTION 5\n",
        "import math\n",
        "\n",
        "# Given radius\n",
        "radius = 30\n",
        "\n",
        "# Calculate area\n",
        "area_of_circle = math.pi * radius ** 2\n",
        "\n",
        "# Calculate circumference\n",
        "circum_of_circle = 2 * math.pi * radius\n",
        "\n",
        "# Output the results\n",
        "print(\"Area of the circle:\", area_of_circle)\n",
        "print(\"Circumference of the circle:\", circum_of_circle)\n",
        "\n",
        "# Take radius as user input and calculate the area\n",
        "user_radius = float(input(\"Enter the radius of the circle (in meters): \"))\n",
        "user_area_of_circle = math.pi * user_radius ** 2\n",
        "print(\"Area of the circle with radius\", user_radius, \"is:\", user_area_of_circle)\n"
      ],
      "metadata": {
        "colab": {
          "base_uri": "https://localhost:8080/"
        },
        "id": "WYDY0qsV2B4z",
        "outputId": "e036df71-0d98-42fa-b5ea-a5ec25e0acd4"
      },
      "execution_count": 42,
      "outputs": [
        {
          "output_type": "stream",
          "name": "stdout",
          "text": [
            "Area of the circle: 2827.4333882308138\n",
            "Circumference of the circle: 188.49555921538757\n",
            "Enter the radius of the circle (in meters): 10\n",
            "Area of the circle with radius 10.0 is: 314.1592653589793\n"
          ]
        }
      ]
    },
    {
      "cell_type": "code",
      "source": [
        "#QUESTION 6\n",
        "sentence = \"I am a teacher and I love to inspire and teach people\"\n",
        "words = sentence.split()\n",
        "print(words)\n",
        "unique_words = set(words)\n",
        "unique_word_count = len(unique_words)\n",
        "print(\"Unique words count:\", unique_word_count)\n"
      ],
      "metadata": {
        "colab": {
          "base_uri": "https://localhost:8080/"
        },
        "id": "zFET2-Yk2cuT",
        "outputId": "ed1de379-a672-46e7-f53a-2a2d445fcc77"
      },
      "execution_count": 43,
      "outputs": [
        {
          "output_type": "stream",
          "name": "stdout",
          "text": [
            "['I', 'am', 'a', 'teacher', 'and', 'I', 'love', 'to', 'inspire', 'and', 'teach', 'people']\n",
            "Unique words count: 10\n"
          ]
        }
      ]
    },
    {
      "cell_type": "code",
      "source": [
        "#QUESTION 7\n",
        "print(\"Name\\tAge\\tCountry\\tCity\")\n",
        "print(\"Asabeneh\\t250\\tFinland\\tHelsinki\")\n"
      ],
      "metadata": {
        "colab": {
          "base_uri": "https://localhost:8080/"
        },
        "id": "lnPaa68X3Mqp",
        "outputId": "87201a58-ecb0-4d10-a564-59b0dbffb237"
      },
      "execution_count": 44,
      "outputs": [
        {
          "output_type": "stream",
          "name": "stdout",
          "text": [
            "Name\tAge\tCountry\tCity\n",
            "Asabeneh\t250\tFinland\tHelsinki\n"
          ]
        }
      ]
    },
    {
      "cell_type": "code",
      "source": [
        "#QUESTION 8\n",
        "radius = 10\n",
        "area = 3.14 * radius ** 2\n",
        "print(\"The area of a circle with radius {} is {} meters square.\".format(radius, area))\n"
      ],
      "metadata": {
        "colab": {
          "base_uri": "https://localhost:8080/"
        },
        "id": "uxfGta0b3eBF",
        "outputId": "4ae4d373-9aa7-4f17-a83e-d9bc0ce97d7f"
      },
      "execution_count": 45,
      "outputs": [
        {
          "output_type": "stream",
          "name": "stdout",
          "text": [
            "The area of a circle with radius 10 is 314.0 meters square.\n"
          ]
        }
      ]
    },
    {
      "cell_type": "code",
      "source": [
        "#QUESTION 9\n",
        "\n",
        "# Read the number of students from the user\n",
        "N = int(input(\"Enter the number of students: \"))\n",
        "\n",
        "# Initialize lists to store weights in pounds and kilograms\n",
        "weights_lbs = []\n",
        "weights_kgs = []\n",
        "\n",
        "# Read weights in pounds for N students\n",
        "for i in range(N):\n",
        "    weight_lbs = float(input(f\"Enter the weight of student {i+1} in pounds: \"))\n",
        "    weights_lbs.append(weight_lbs)\n",
        "\n",
        "# Convert weights to kilograms and store them in a separate list\n",
        "for weight_lbs in weights_lbs:\n",
        "    weight_kgs = weight_lbs * 0.453592\n",
        "    weights_kgs.append(round(weight_kgs, 2))\n",
        "\n",
        "# Print the lists\n",
        "print(\"Weights in pounds:\", weights_lbs)\n",
        "print(\"Weights in kilograms:\", weights_kgs)\n"
      ],
      "metadata": {
        "colab": {
          "base_uri": "https://localhost:8080/"
        },
        "id": "5zXtioo23xTz",
        "outputId": "c22f7dc8-f12f-47ce-e576-e5e6c4ef78ee"
      },
      "execution_count": 46,
      "outputs": [
        {
          "output_type": "stream",
          "name": "stdout",
          "text": [
            "Enter the number of students: 3\n",
            "Enter the weight of student 1 in pounds: 10\n",
            "Enter the weight of student 2 in pounds: 20\n",
            "Enter the weight of student 3 in pounds: 25\n",
            "Weights in pounds: [10.0, 20.0, 25.0]\n",
            "Weights in kilograms: [4.54, 9.07, 11.34]\n"
          ]
        }
      ]
    }
  ]
}